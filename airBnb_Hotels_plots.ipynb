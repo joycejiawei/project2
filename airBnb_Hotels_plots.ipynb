{
 "cells": [
  {
   "cell_type": "code",
   "execution_count": 2,
   "metadata": {},
   "outputs": [],
   "source": [
    "import numpy as np\n",
    "import pandas as pd\n",
    "import re\n",
    "from matplotlib import pyplot as plt\n",
    "plt.style.use('ggplot')\n",
    "import seaborn as sns\n",
    "import scipy.stats as stats\n",
    "\n",
    "\n"
   ]
  },
  {
   "cell_type": "code",
   "execution_count": 3,
   "metadata": {},
   "outputs": [],
   "source": [
    "%matplotlib inline"
   ]
  },
  {
   "cell_type": "code",
   "execution_count": 4,
   "metadata": {},
   "outputs": [
    {
     "data": {
      "text/html": [
       "<div>\n",
       "<style scoped>\n",
       "    .dataframe tbody tr th:only-of-type {\n",
       "        vertical-align: middle;\n",
       "    }\n",
       "\n",
       "    .dataframe tbody tr th {\n",
       "        vertical-align: top;\n",
       "    }\n",
       "\n",
       "    .dataframe thead th {\n",
       "        text-align: right;\n",
       "    }\n",
       "</style>\n",
       "<table border=\"1\" class=\"dataframe\">\n",
       "  <thead>\n",
       "    <tr style=\"text-align: right;\">\n",
       "      <th></th>\n",
       "      <th>Unnamed: 0</th>\n",
       "      <th>Unnamed: 0.1</th>\n",
       "      <th>city</th>\n",
       "      <th>house_title</th>\n",
       "      <th>house_type</th>\n",
       "      <th>price</th>\n",
       "      <th>owner_name</th>\n",
       "      <th>no_of_reviews</th>\n",
       "      <th>rating</th>\n",
       "      <th>occupancy</th>\n",
       "      <th>occupancy_lst</th>\n",
       "      <th>no_of_guest</th>\n",
       "      <th>house_size</th>\n",
       "      <th>no_of_beds</th>\n",
       "      <th>no_of_baths</th>\n",
       "      <th>house</th>\n",
       "      <th>beds</th>\n",
       "      <th>bath</th>\n",
       "    </tr>\n",
       "  </thead>\n",
       "  <tbody>\n",
       "    <tr>\n",
       "      <th>215</th>\n",
       "      <td>215</td>\n",
       "      <td>222.0</td>\n",
       "      <td>Manhattan</td>\n",
       "      <td>Cozy Room in Astoria,15min with Ferry To Manha...</td>\n",
       "      <td>Private room in apartment</td>\n",
       "      <td>750.0</td>\n",
       "      <td>Darko</td>\n",
       "      <td>300</td>\n",
       "      <td>4.5</td>\n",
       "      <td>['3 guests', '1 bedroom', '1 bed', '1 shared b...</td>\n",
       "      <td>[\"['3 guests'\", \" '1 bedroom'\", \" '1 bed'\", \" ...</td>\n",
       "      <td>[</td>\n",
       "      <td>\"</td>\n",
       "      <td>[</td>\n",
       "      <td>'</td>\n",
       "      <td>NaN</td>\n",
       "      <td>NaN</td>\n",
       "      <td>NaN</td>\n",
       "    </tr>\n",
       "    <tr>\n",
       "      <th>175</th>\n",
       "      <td>175</td>\n",
       "      <td>180.0</td>\n",
       "      <td>Manhattan</td>\n",
       "      <td>Amazing Sunny Apartment in the Lower East Side</td>\n",
       "      <td>Entire apartment</td>\n",
       "      <td>1690.0</td>\n",
       "      <td>Todd</td>\n",
       "      <td>770</td>\n",
       "      <td>4.5</td>\n",
       "      <td>['3 guests', 'Studio', '1 bed', '1 bath', 'ó°...</td>\n",
       "      <td>[\"['3 guests'\", \" 'Studio'\", \" '1 bed'\", \" '1 ...</td>\n",
       "      <td>[</td>\n",
       "      <td>\"</td>\n",
       "      <td>[</td>\n",
       "      <td>'</td>\n",
       "      <td>NaN</td>\n",
       "      <td>NaN</td>\n",
       "      <td>NaN</td>\n",
       "    </tr>\n",
       "    <tr>\n",
       "      <th>112</th>\n",
       "      <td>112</td>\n",
       "      <td>114.0</td>\n",
       "      <td>Manhattan</td>\n",
       "      <td>Centrally Located Comfy 2BR Midtown Apartment</td>\n",
       "      <td>Entire apartment</td>\n",
       "      <td>2290.0</td>\n",
       "      <td>Akon</td>\n",
       "      <td>980</td>\n",
       "      <td>5.0</td>\n",
       "      <td>['6 guests', '2 bedrooms', '3 beds', '1 bath',...</td>\n",
       "      <td>[\"['6 guests'\", \" '2 bedrooms'\", \" '3 beds'\", ...</td>\n",
       "      <td>[</td>\n",
       "      <td>\"</td>\n",
       "      <td>[</td>\n",
       "      <td>'</td>\n",
       "      <td>NaN</td>\n",
       "      <td>NaN</td>\n",
       "      <td>NaN</td>\n",
       "    </tr>\n",
       "    <tr>\n",
       "      <th>98</th>\n",
       "      <td>98</td>\n",
       "      <td>99.0</td>\n",
       "      <td>Manhattan</td>\n",
       "      <td>AMAZING 1 BR- TIME SQUARE-SLEEPS 4</td>\n",
       "      <td>Entire apartment</td>\n",
       "      <td>2000.0</td>\n",
       "      <td>E. M.</td>\n",
       "      <td>3240</td>\n",
       "      <td>4.5</td>\n",
       "      <td>['4 guests', '1 bedroom', '1 bed', '1 bath', '...</td>\n",
       "      <td>[\"['4 guests'\", \" '1 bedroom'\", \" '1 bed'\", \" ...</td>\n",
       "      <td>[</td>\n",
       "      <td>\"</td>\n",
       "      <td>[</td>\n",
       "      <td>'</td>\n",
       "      <td>NaN</td>\n",
       "      <td>NaN</td>\n",
       "      <td>NaN</td>\n",
       "    </tr>\n",
       "    <tr>\n",
       "      <th>5</th>\n",
       "      <td>5</td>\n",
       "      <td>5.0</td>\n",
       "      <td>Manhattan</td>\n",
       "      <td>Modern &amp; Trendy 2-Bedroom 1 Bath Lower Manhattan</td>\n",
       "      <td>Entire apartment</td>\n",
       "      <td>900.0</td>\n",
       "      <td>Alex</td>\n",
       "      <td>1170</td>\n",
       "      <td>5.0</td>\n",
       "      <td>['5 guests', '2 bedrooms', '3 beds', '1 bath',...</td>\n",
       "      <td>[\"['5 guests'\", \" '2 bedrooms'\", \" '3 beds'\", ...</td>\n",
       "      <td>[</td>\n",
       "      <td>\"</td>\n",
       "      <td>[</td>\n",
       "      <td>'</td>\n",
       "      <td>NaN</td>\n",
       "      <td>NaN</td>\n",
       "      <td>NaN</td>\n",
       "    </tr>\n",
       "  </tbody>\n",
       "</table>\n",
       "</div>"
      ],
      "text/plain": [
       "     Unnamed: 0  Unnamed: 0.1       city  \\\n",
       "215         215         222.0  Manhattan   \n",
       "175         175         180.0  Manhattan   \n",
       "112         112         114.0  Manhattan   \n",
       "98           98          99.0  Manhattan   \n",
       "5             5           5.0  Manhattan   \n",
       "\n",
       "                                           house_title  \\\n",
       "215  Cozy Room in Astoria,15min with Ferry To Manha...   \n",
       "175     Amazing Sunny Apartment in the Lower East Side   \n",
       "112      Centrally Located Comfy 2BR Midtown Apartment   \n",
       "98                  AMAZING 1 BR- TIME SQUARE-SLEEPS 4   \n",
       "5     Modern & Trendy 2-Bedroom 1 Bath Lower Manhattan   \n",
       "\n",
       "                    house_type   price owner_name  no_of_reviews  rating  \\\n",
       "215  Private room in apartment   750.0      Darko            300     4.5   \n",
       "175           Entire apartment  1690.0       Todd            770     4.5   \n",
       "112           Entire apartment  2290.0       Akon            980     5.0   \n",
       "98            Entire apartment  2000.0      E. M.           3240     4.5   \n",
       "5             Entire apartment   900.0       Alex           1170     5.0   \n",
       "\n",
       "                                             occupancy  \\\n",
       "215  ['3 guests', '1 bedroom', '1 bed', '1 shared b...   \n",
       "175  ['3 guests', 'Studio', '1 bed', '1 bath', 'ó°...   \n",
       "112  ['6 guests', '2 bedrooms', '3 beds', '1 bath',...   \n",
       "98   ['4 guests', '1 bedroom', '1 bed', '1 bath', '...   \n",
       "5    ['5 guests', '2 bedrooms', '3 beds', '1 bath',...   \n",
       "\n",
       "                                         occupancy_lst no_of_guest house_size  \\\n",
       "215  [\"['3 guests'\", \" '1 bedroom'\", \" '1 bed'\", \" ...           [          \"   \n",
       "175  [\"['3 guests'\", \" 'Studio'\", \" '1 bed'\", \" '1 ...           [          \"   \n",
       "112  [\"['6 guests'\", \" '2 bedrooms'\", \" '3 beds'\", ...           [          \"   \n",
       "98   [\"['4 guests'\", \" '1 bedroom'\", \" '1 bed'\", \" ...           [          \"   \n",
       "5    [\"['5 guests'\", \" '2 bedrooms'\", \" '3 beds'\", ...           [          \"   \n",
       "\n",
       "    no_of_beds no_of_baths  house  beds  bath  \n",
       "215          [           '    NaN   NaN   NaN  \n",
       "175          [           '    NaN   NaN   NaN  \n",
       "112          [           '    NaN   NaN   NaN  \n",
       "98           [           '    NaN   NaN   NaN  \n",
       "5            [           '    NaN   NaN   NaN  "
      ]
     },
     "execution_count": 4,
     "metadata": {},
     "output_type": "execute_result"
    }
   ],
   "source": [
    "#read in the cleaned data from csv file\n",
    "df = pd.read_csv('airbnbdfClean.csv', encoding = 'unicode_escape')\n",
    "df.sample(5)"
   ]
  },
  {
   "cell_type": "code",
   "execution_count": 5,
   "metadata": {},
   "outputs": [
    {
     "data": {
      "text/html": [
       "<div>\n",
       "<style scoped>\n",
       "    .dataframe tbody tr th:only-of-type {\n",
       "        vertical-align: middle;\n",
       "    }\n",
       "\n",
       "    .dataframe tbody tr th {\n",
       "        vertical-align: top;\n",
       "    }\n",
       "\n",
       "    .dataframe thead th {\n",
       "        text-align: right;\n",
       "    }\n",
       "</style>\n",
       "<table border=\"1\" class=\"dataframe\">\n",
       "  <thead>\n",
       "    <tr style=\"text-align: right;\">\n",
       "      <th></th>\n",
       "      <th>city</th>\n",
       "      <th>house_title</th>\n",
       "      <th>house_type</th>\n",
       "      <th>price</th>\n",
       "      <th>owner_name</th>\n",
       "      <th>no_of_reviews</th>\n",
       "      <th>rating</th>\n",
       "      <th>no_of_guest</th>\n",
       "      <th>house_size</th>\n",
       "      <th>no_of_beds</th>\n",
       "      <th>no_of_baths</th>\n",
       "      <th>house</th>\n",
       "      <th>beds</th>\n",
       "      <th>bath</th>\n",
       "    </tr>\n",
       "  </thead>\n",
       "  <tbody>\n",
       "    <tr>\n",
       "      <th>36</th>\n",
       "      <td>Manhattan</td>\n",
       "      <td>Soho Apartment Stylish &amp; Central</td>\n",
       "      <td>Entire condominium</td>\n",
       "      <td>1900.0</td>\n",
       "      <td>Arne</td>\n",
       "      <td>3460</td>\n",
       "      <td>4.5</td>\n",
       "      <td>[</td>\n",
       "      <td>\"</td>\n",
       "      <td>[</td>\n",
       "      <td>'</td>\n",
       "      <td>NaN</td>\n",
       "      <td>NaN</td>\n",
       "      <td>NaN</td>\n",
       "    </tr>\n",
       "    <tr>\n",
       "      <th>201</th>\n",
       "      <td>Manhattan</td>\n",
       "      <td>New Modern 1 Bedroom Apt - Hip Downtown Manhattan</td>\n",
       "      <td>Entire apartment</td>\n",
       "      <td>2400.0</td>\n",
       "      <td>Mike</td>\n",
       "      <td>2080</td>\n",
       "      <td>5.0</td>\n",
       "      <td>[</td>\n",
       "      <td>\"</td>\n",
       "      <td>[</td>\n",
       "      <td>'</td>\n",
       "      <td>NaN</td>\n",
       "      <td>NaN</td>\n",
       "      <td>NaN</td>\n",
       "    </tr>\n",
       "    <tr>\n",
       "      <th>193</th>\n",
       "      <td>Manhattan</td>\n",
       "      <td>Stylish 2BR Ã¢ÂÂ",
       " Sleeps 6 Ã¢ÂÂ",
       " C.Park</td>\n",
       "      <td>Entire apartment</td>\n",
       "      <td>1900.0</td>\n",
       "      <td>Gilad</td>\n",
       "      <td>1090</td>\n",
       "      <td>4.0</td>\n",
       "      <td>[</td>\n",
       "      <td>\"</td>\n",
       "      <td>[</td>\n",
       "      <td>'</td>\n",
       "      <td>NaN</td>\n",
       "      <td>NaN</td>\n",
       "      <td>NaN</td>\n",
       "    </tr>\n",
       "    <tr>\n",
       "      <th>143</th>\n",
       "      <td>Manhattan</td>\n",
       "      <td>Quiet Soho/Nolita Garden Alcove Studio</td>\n",
       "      <td>Entire apartment</td>\n",
       "      <td>1530.0</td>\n",
       "      <td>Deeva</td>\n",
       "      <td>1550</td>\n",
       "      <td>5.0</td>\n",
       "      <td>[</td>\n",
       "      <td>\"</td>\n",
       "      <td>[</td>\n",
       "      <td>'</td>\n",
       "      <td>NaN</td>\n",
       "      <td>NaN</td>\n",
       "      <td>NaN</td>\n",
       "    </tr>\n",
       "    <tr>\n",
       "      <th>230</th>\n",
       "      <td>Manhattan</td>\n",
       "      <td>DaDukes Dreams</td>\n",
       "      <td>Private room in house</td>\n",
       "      <td>850.0</td>\n",
       "      <td>Alberto</td>\n",
       "      <td>660</td>\n",
       "      <td>5.0</td>\n",
       "      <td>[</td>\n",
       "      <td>\"</td>\n",
       "      <td>[</td>\n",
       "      <td>'</td>\n",
       "      <td>NaN</td>\n",
       "      <td>NaN</td>\n",
       "      <td>NaN</td>\n",
       "    </tr>\n",
       "  </tbody>\n",
       "</table>\n",
       "</div>"
      ],
      "text/plain": [
       "          city                                        house_title  \\\n",
       "36   Manhattan                   Soho Apartment Stylish & Central   \n",
       "201  Manhattan  New Modern 1 Bedroom Apt - Hip Downtown Manhattan   \n",
       "193  Manhattan          Stylish 2BR Ã¢ÂÂ\n",
       " Sleeps 6 Ã¢ÂÂ\n",
       " C.Park   \n",
       "143  Manhattan             Quiet Soho/Nolita Garden Alcove Studio   \n",
       "230  Manhattan                                     DaDukes Dreams   \n",
       "\n",
       "                house_type   price owner_name  no_of_reviews  rating  \\\n",
       "36      Entire condominium  1900.0       Arne           3460     4.5   \n",
       "201       Entire apartment  2400.0       Mike           2080     5.0   \n",
       "193       Entire apartment  1900.0      Gilad           1090     4.0   \n",
       "143       Entire apartment  1530.0      Deeva           1550     5.0   \n",
       "230  Private room in house   850.0    Alberto            660     5.0   \n",
       "\n",
       "    no_of_guest house_size no_of_beds no_of_baths  house  beds  bath  \n",
       "36            [          \"          [           '    NaN   NaN   NaN  \n",
       "201           [          \"          [           '    NaN   NaN   NaN  \n",
       "193           [          \"          [           '    NaN   NaN   NaN  \n",
       "143           [          \"          [           '    NaN   NaN   NaN  \n",
       "230           [          \"          [           '    NaN   NaN   NaN  "
      ]
     },
     "execution_count": 5,
     "metadata": {},
     "output_type": "execute_result"
    }
   ],
   "source": [
    "airdf = df[['city','house_title','house_type','price','owner_name','no_of_reviews','rating','no_of_guest','house_size','no_of_beds','no_of_baths','house','beds','bath']]\n",
    "airdf.sample(5)"
   ]
  },
  {
   "cell_type": "code",
   "execution_count": 6,
   "metadata": {},
   "outputs": [
    {
     "data": {
      "text/plain": [
       "'Ã¢Â\\x9dÂ¤Ã¯Â¸Â\\x8f Furnished One Bedroom with Terrace!! Ã¢Â\\x98Â\\x85Ã¢Â\\x98Â\\x85Ã¢Â\\x98Â\\x85Ã¢Â\\x98Â\\x85Ã¢Â\\x98Â\\x85'"
      ]
     },
     "execution_count": 6,
     "metadata": {},
     "output_type": "execute_result"
    }
   ],
   "source": [
    "airdf.iloc[111,1]"
   ]
  },
  {
   "cell_type": "code",
   "execution_count": 7,
   "metadata": {},
   "outputs": [
    {
     "data": {
      "text/plain": [
       "'Furnished One Bedroom with Terrace'"
      ]
     },
     "execution_count": 7,
     "metadata": {},
     "output_type": "execute_result"
    }
   ],
   "source": [
    "\" \".join(re.findall('[a-zA-Z]+', airdf.iloc[111,1]))"
   ]
  },
  {
   "cell_type": "code",
   "execution_count": 11,
   "metadata": {},
   "outputs": [
    {
     "ename": "ValueError",
     "evalue": "invalid literal for int() with base 10: '['",
     "output_type": "error",
     "traceback": [
      "\u001b[0;31m---------------------------------------------------------------------------\u001b[0m",
      "\u001b[0;31mValueError\u001b[0m                                Traceback (most recent call last)",
      "\u001b[0;32m<ipython-input-11-626f0191f7a7>\u001b[0m in \u001b[0;36m<module>\u001b[0;34m\u001b[0m\n\u001b[1;32m      5\u001b[0m \u001b[0mairdf\u001b[0m \u001b[0;34m=\u001b[0m \u001b[0mairdf\u001b[0m\u001b[0;34m.\u001b[0m\u001b[0massign\u001b[0m\u001b[0;34m(\u001b[0m\u001b[0mhouse_title\u001b[0m \u001b[0;34m=\u001b[0m \u001b[0mairdf\u001b[0m\u001b[0;34m.\u001b[0m\u001b[0mhouse_title\u001b[0m\u001b[0;34m.\u001b[0m\u001b[0mapply\u001b[0m\u001b[0;34m(\u001b[0m\u001b[0mget_alphabets\u001b[0m\u001b[0;34m)\u001b[0m\u001b[0;34m)\u001b[0m\u001b[0;34m\u001b[0m\u001b[0;34m\u001b[0m\u001b[0m\n\u001b[1;32m      6\u001b[0m \u001b[0;34m\u001b[0m\u001b[0m\n\u001b[0;32m----> 7\u001b[0;31m \u001b[0mairdf\u001b[0m \u001b[0;34m=\u001b[0m \u001b[0mairdf\u001b[0m\u001b[0;34m.\u001b[0m\u001b[0massign\u001b[0m\u001b[0;34m(\u001b[0m\u001b[0mno_of_guest\u001b[0m \u001b[0;34m=\u001b[0m \u001b[0mairdf\u001b[0m\u001b[0;34m.\u001b[0m\u001b[0mno_of_guest\u001b[0m\u001b[0;34m.\u001b[0m\u001b[0mastype\u001b[0m\u001b[0;34m(\u001b[0m\u001b[0mint\u001b[0m\u001b[0;34m)\u001b[0m\u001b[0;34m)\u001b[0m\u001b[0;34m\u001b[0m\u001b[0;34m\u001b[0m\u001b[0m\n\u001b[0m\u001b[1;32m      8\u001b[0m \u001b[0mairdf\u001b[0m \u001b[0;34m=\u001b[0m \u001b[0mairdf\u001b[0m\u001b[0;34m.\u001b[0m\u001b[0massign\u001b[0m\u001b[0;34m(\u001b[0m\u001b[0mprice\u001b[0m \u001b[0;34m=\u001b[0m \u001b[0mairdf\u001b[0m\u001b[0;34m.\u001b[0m\u001b[0mprice\u001b[0m\u001b[0;34m.\u001b[0m\u001b[0mastype\u001b[0m\u001b[0;34m(\u001b[0m\u001b[0mint\u001b[0m\u001b[0;34m)\u001b[0m\u001b[0;34m)\u001b[0m\u001b[0;34m\u001b[0m\u001b[0;34m\u001b[0m\u001b[0m\n",
      "\u001b[0;32m~/anaconda3/lib/python3.7/site-packages/pandas/util/_decorators.py\u001b[0m in \u001b[0;36mwrapper\u001b[0;34m(*args, **kwargs)\u001b[0m\n\u001b[1;32m    176\u001b[0m                 \u001b[0;32melse\u001b[0m\u001b[0;34m:\u001b[0m\u001b[0;34m\u001b[0m\u001b[0;34m\u001b[0m\u001b[0m\n\u001b[1;32m    177\u001b[0m                     \u001b[0mkwargs\u001b[0m\u001b[0;34m[\u001b[0m\u001b[0mnew_arg_name\u001b[0m\u001b[0;34m]\u001b[0m \u001b[0;34m=\u001b[0m \u001b[0mnew_arg_value\u001b[0m\u001b[0;34m\u001b[0m\u001b[0;34m\u001b[0m\u001b[0m\n\u001b[0;32m--> 178\u001b[0;31m             \u001b[0;32mreturn\u001b[0m \u001b[0mfunc\u001b[0m\u001b[0;34m(\u001b[0m\u001b[0;34m*\u001b[0m\u001b[0margs\u001b[0m\u001b[0;34m,\u001b[0m \u001b[0;34m**\u001b[0m\u001b[0mkwargs\u001b[0m\u001b[0;34m)\u001b[0m\u001b[0;34m\u001b[0m\u001b[0;34m\u001b[0m\u001b[0m\n\u001b[0m\u001b[1;32m    179\u001b[0m         \u001b[0;32mreturn\u001b[0m \u001b[0mwrapper\u001b[0m\u001b[0;34m\u001b[0m\u001b[0;34m\u001b[0m\u001b[0m\n\u001b[1;32m    180\u001b[0m     \u001b[0;32mreturn\u001b[0m \u001b[0m_deprecate_kwarg\u001b[0m\u001b[0;34m\u001b[0m\u001b[0;34m\u001b[0m\u001b[0m\n",
      "\u001b[0;32m~/anaconda3/lib/python3.7/site-packages/pandas/core/generic.py\u001b[0m in \u001b[0;36mastype\u001b[0;34m(self, dtype, copy, errors, **kwargs)\u001b[0m\n\u001b[1;32m   4999\u001b[0m             \u001b[0;31m# else, only a single dtype is given\u001b[0m\u001b[0;34m\u001b[0m\u001b[0;34m\u001b[0m\u001b[0;34m\u001b[0m\u001b[0m\n\u001b[1;32m   5000\u001b[0m             new_data = self._data.astype(dtype=dtype, copy=copy, errors=errors,\n\u001b[0;32m-> 5001\u001b[0;31m                                          **kwargs)\n\u001b[0m\u001b[1;32m   5002\u001b[0m             \u001b[0;32mreturn\u001b[0m \u001b[0mself\u001b[0m\u001b[0;34m.\u001b[0m\u001b[0m_constructor\u001b[0m\u001b[0;34m(\u001b[0m\u001b[0mnew_data\u001b[0m\u001b[0;34m)\u001b[0m\u001b[0;34m.\u001b[0m\u001b[0m__finalize__\u001b[0m\u001b[0;34m(\u001b[0m\u001b[0mself\u001b[0m\u001b[0;34m)\u001b[0m\u001b[0;34m\u001b[0m\u001b[0;34m\u001b[0m\u001b[0m\n\u001b[1;32m   5003\u001b[0m \u001b[0;34m\u001b[0m\u001b[0m\n",
      "\u001b[0;32m~/anaconda3/lib/python3.7/site-packages/pandas/core/internals.py\u001b[0m in \u001b[0;36mastype\u001b[0;34m(self, dtype, **kwargs)\u001b[0m\n\u001b[1;32m   3712\u001b[0m \u001b[0;34m\u001b[0m\u001b[0m\n\u001b[1;32m   3713\u001b[0m     \u001b[0;32mdef\u001b[0m \u001b[0mastype\u001b[0m\u001b[0;34m(\u001b[0m\u001b[0mself\u001b[0m\u001b[0;34m,\u001b[0m \u001b[0mdtype\u001b[0m\u001b[0;34m,\u001b[0m \u001b[0;34m**\u001b[0m\u001b[0mkwargs\u001b[0m\u001b[0;34m)\u001b[0m\u001b[0;34m:\u001b[0m\u001b[0;34m\u001b[0m\u001b[0;34m\u001b[0m\u001b[0m\n\u001b[0;32m-> 3714\u001b[0;31m         \u001b[0;32mreturn\u001b[0m \u001b[0mself\u001b[0m\u001b[0;34m.\u001b[0m\u001b[0mapply\u001b[0m\u001b[0;34m(\u001b[0m\u001b[0;34m'astype'\u001b[0m\u001b[0;34m,\u001b[0m \u001b[0mdtype\u001b[0m\u001b[0;34m=\u001b[0m\u001b[0mdtype\u001b[0m\u001b[0;34m,\u001b[0m \u001b[0;34m**\u001b[0m\u001b[0mkwargs\u001b[0m\u001b[0;34m)\u001b[0m\u001b[0;34m\u001b[0m\u001b[0;34m\u001b[0m\u001b[0m\n\u001b[0m\u001b[1;32m   3715\u001b[0m \u001b[0;34m\u001b[0m\u001b[0m\n\u001b[1;32m   3716\u001b[0m     \u001b[0;32mdef\u001b[0m \u001b[0mconvert\u001b[0m\u001b[0;34m(\u001b[0m\u001b[0mself\u001b[0m\u001b[0;34m,\u001b[0m \u001b[0;34m**\u001b[0m\u001b[0mkwargs\u001b[0m\u001b[0;34m)\u001b[0m\u001b[0;34m:\u001b[0m\u001b[0;34m\u001b[0m\u001b[0;34m\u001b[0m\u001b[0m\n",
      "\u001b[0;32m~/anaconda3/lib/python3.7/site-packages/pandas/core/internals.py\u001b[0m in \u001b[0;36mapply\u001b[0;34m(self, f, axes, filter, do_integrity_check, consolidate, **kwargs)\u001b[0m\n\u001b[1;32m   3579\u001b[0m \u001b[0;34m\u001b[0m\u001b[0m\n\u001b[1;32m   3580\u001b[0m             \u001b[0mkwargs\u001b[0m\u001b[0;34m[\u001b[0m\u001b[0;34m'mgr'\u001b[0m\u001b[0;34m]\u001b[0m \u001b[0;34m=\u001b[0m \u001b[0mself\u001b[0m\u001b[0;34m\u001b[0m\u001b[0;34m\u001b[0m\u001b[0m\n\u001b[0;32m-> 3581\u001b[0;31m             \u001b[0mapplied\u001b[0m \u001b[0;34m=\u001b[0m \u001b[0mgetattr\u001b[0m\u001b[0;34m(\u001b[0m\u001b[0mb\u001b[0m\u001b[0;34m,\u001b[0m \u001b[0mf\u001b[0m\u001b[0;34m)\u001b[0m\u001b[0;34m(\u001b[0m\u001b[0;34m**\u001b[0m\u001b[0mkwargs\u001b[0m\u001b[0;34m)\u001b[0m\u001b[0;34m\u001b[0m\u001b[0;34m\u001b[0m\u001b[0m\n\u001b[0m\u001b[1;32m   3582\u001b[0m             \u001b[0mresult_blocks\u001b[0m \u001b[0;34m=\u001b[0m \u001b[0m_extend_blocks\u001b[0m\u001b[0;34m(\u001b[0m\u001b[0mapplied\u001b[0m\u001b[0;34m,\u001b[0m \u001b[0mresult_blocks\u001b[0m\u001b[0;34m)\u001b[0m\u001b[0;34m\u001b[0m\u001b[0;34m\u001b[0m\u001b[0m\n\u001b[1;32m   3583\u001b[0m \u001b[0;34m\u001b[0m\u001b[0m\n",
      "\u001b[0;32m~/anaconda3/lib/python3.7/site-packages/pandas/core/internals.py\u001b[0m in \u001b[0;36mastype\u001b[0;34m(self, dtype, copy, errors, values, **kwargs)\u001b[0m\n\u001b[1;32m    573\u001b[0m     \u001b[0;32mdef\u001b[0m \u001b[0mastype\u001b[0m\u001b[0;34m(\u001b[0m\u001b[0mself\u001b[0m\u001b[0;34m,\u001b[0m \u001b[0mdtype\u001b[0m\u001b[0;34m,\u001b[0m \u001b[0mcopy\u001b[0m\u001b[0;34m=\u001b[0m\u001b[0;32mFalse\u001b[0m\u001b[0;34m,\u001b[0m \u001b[0merrors\u001b[0m\u001b[0;34m=\u001b[0m\u001b[0;34m'raise'\u001b[0m\u001b[0;34m,\u001b[0m \u001b[0mvalues\u001b[0m\u001b[0;34m=\u001b[0m\u001b[0;32mNone\u001b[0m\u001b[0;34m,\u001b[0m \u001b[0;34m**\u001b[0m\u001b[0mkwargs\u001b[0m\u001b[0;34m)\u001b[0m\u001b[0;34m:\u001b[0m\u001b[0;34m\u001b[0m\u001b[0;34m\u001b[0m\u001b[0m\n\u001b[1;32m    574\u001b[0m         return self._astype(dtype, copy=copy, errors=errors, values=values,\n\u001b[0;32m--> 575\u001b[0;31m                             **kwargs)\n\u001b[0m\u001b[1;32m    576\u001b[0m \u001b[0;34m\u001b[0m\u001b[0m\n\u001b[1;32m    577\u001b[0m     def _astype(self, dtype, copy=False, errors='raise', values=None,\n",
      "\u001b[0;32m~/anaconda3/lib/python3.7/site-packages/pandas/core/internals.py\u001b[0m in \u001b[0;36m_astype\u001b[0;34m(self, dtype, copy, errors, values, klass, mgr, **kwargs)\u001b[0m\n\u001b[1;32m    662\u001b[0m \u001b[0;34m\u001b[0m\u001b[0m\n\u001b[1;32m    663\u001b[0m                 \u001b[0;31m# _astype_nansafe works fine with 1-d only\u001b[0m\u001b[0;34m\u001b[0m\u001b[0;34m\u001b[0m\u001b[0;34m\u001b[0m\u001b[0m\n\u001b[0;32m--> 664\u001b[0;31m                 \u001b[0mvalues\u001b[0m \u001b[0;34m=\u001b[0m \u001b[0mastype_nansafe\u001b[0m\u001b[0;34m(\u001b[0m\u001b[0mvalues\u001b[0m\u001b[0;34m.\u001b[0m\u001b[0mravel\u001b[0m\u001b[0;34m(\u001b[0m\u001b[0;34m)\u001b[0m\u001b[0;34m,\u001b[0m \u001b[0mdtype\u001b[0m\u001b[0;34m,\u001b[0m \u001b[0mcopy\u001b[0m\u001b[0;34m=\u001b[0m\u001b[0;32mTrue\u001b[0m\u001b[0;34m)\u001b[0m\u001b[0;34m\u001b[0m\u001b[0;34m\u001b[0m\u001b[0m\n\u001b[0m\u001b[1;32m    665\u001b[0m                 \u001b[0mvalues\u001b[0m \u001b[0;34m=\u001b[0m \u001b[0mvalues\u001b[0m\u001b[0;34m.\u001b[0m\u001b[0mreshape\u001b[0m\u001b[0;34m(\u001b[0m\u001b[0mself\u001b[0m\u001b[0;34m.\u001b[0m\u001b[0mshape\u001b[0m\u001b[0;34m)\u001b[0m\u001b[0;34m\u001b[0m\u001b[0;34m\u001b[0m\u001b[0m\n\u001b[1;32m    666\u001b[0m \u001b[0;34m\u001b[0m\u001b[0m\n",
      "\u001b[0;32m~/anaconda3/lib/python3.7/site-packages/pandas/core/dtypes/cast.py\u001b[0m in \u001b[0;36mastype_nansafe\u001b[0;34m(arr, dtype, copy)\u001b[0m\n\u001b[1;32m    707\u001b[0m         \u001b[0;31m# work around NumPy brokenness, #1987\u001b[0m\u001b[0;34m\u001b[0m\u001b[0;34m\u001b[0m\u001b[0;34m\u001b[0m\u001b[0m\n\u001b[1;32m    708\u001b[0m         \u001b[0;32mif\u001b[0m \u001b[0mnp\u001b[0m\u001b[0;34m.\u001b[0m\u001b[0missubdtype\u001b[0m\u001b[0;34m(\u001b[0m\u001b[0mdtype\u001b[0m\u001b[0;34m.\u001b[0m\u001b[0mtype\u001b[0m\u001b[0;34m,\u001b[0m \u001b[0mnp\u001b[0m\u001b[0;34m.\u001b[0m\u001b[0minteger\u001b[0m\u001b[0;34m)\u001b[0m\u001b[0;34m:\u001b[0m\u001b[0;34m\u001b[0m\u001b[0;34m\u001b[0m\u001b[0m\n\u001b[0;32m--> 709\u001b[0;31m             \u001b[0;32mreturn\u001b[0m \u001b[0mlib\u001b[0m\u001b[0;34m.\u001b[0m\u001b[0mastype_intsafe\u001b[0m\u001b[0;34m(\u001b[0m\u001b[0marr\u001b[0m\u001b[0;34m.\u001b[0m\u001b[0mravel\u001b[0m\u001b[0;34m(\u001b[0m\u001b[0;34m)\u001b[0m\u001b[0;34m,\u001b[0m \u001b[0mdtype\u001b[0m\u001b[0;34m)\u001b[0m\u001b[0;34m.\u001b[0m\u001b[0mreshape\u001b[0m\u001b[0;34m(\u001b[0m\u001b[0marr\u001b[0m\u001b[0;34m.\u001b[0m\u001b[0mshape\u001b[0m\u001b[0;34m)\u001b[0m\u001b[0;34m\u001b[0m\u001b[0;34m\u001b[0m\u001b[0m\n\u001b[0m\u001b[1;32m    710\u001b[0m \u001b[0;34m\u001b[0m\u001b[0m\n\u001b[1;32m    711\u001b[0m         \u001b[0;31m# if we have a datetime/timedelta array of objects\u001b[0m\u001b[0;34m\u001b[0m\u001b[0;34m\u001b[0m\u001b[0;34m\u001b[0m\u001b[0m\n",
      "\u001b[0;32mpandas/_libs/lib.pyx\u001b[0m in \u001b[0;36mpandas._libs.lib.astype_intsafe\u001b[0;34m()\u001b[0m\n",
      "\u001b[0;32mpandas/_libs/src/util.pxd\u001b[0m in \u001b[0;36mutil.set_value_at_unsafe\u001b[0;34m()\u001b[0m\n",
      "\u001b[0;31mValueError\u001b[0m: invalid literal for int() with base 10: '['"
     ]
    }
   ],
   "source": [
    "# function to clean weird chars like Â¤Ã¯Â¸Â \n",
    "def get_alphabets(s):\n",
    "    return \" \".join(re.findall('[a-zA-Z]+', s))\n",
    "\n",
    "airdf = airdf.assign(house_title = airdf.house_title.apply(get_alphabets))\n",
    "\n",
    "airdf = airdf.assign(no_of_guest = airdf.no_of_guest.astype(int))\n",
    "airdf = airdf.assign(price = airdf.price.astype(int))"
   ]
  },
  {
   "cell_type": "code",
   "execution_count": null,
   "metadata": {},
   "outputs": [],
   "source": [
    "airdf"
   ]
  },
  {
   "cell_type": "code",
   "execution_count": 12,
   "metadata": {},
   "outputs": [
    {
     "data": {
      "text/plain": [
       "<matplotlib.axes._subplots.AxesSubplot at 0x1a163a5710>"
      ]
     },
     "execution_count": 12,
     "metadata": {},
     "output_type": "execute_result"
    },
    {
     "data": {
      "image/png": "[encoded data removed]",
      "text/plain": [
       "<Figure size 432x288 with 1 Axes>"
      ]
     },
     "metadata": {
      "needs_background": "light"
     },
     "output_type": "display_data"
    }
   ],
   "source": [
    "sns.boxplot(x = 'city', y= 'price', data=airdf)"
   ]
  },
  {
   "cell_type": "code",
   "execution_count": 14,
   "metadata": {},
   "outputs": [
    {
     "data": {
      "text/plain": [
       "Text(0.5, 1.0, 'Price range analysis by Manhattan')"
      ]
     },
     "execution_count": 14,
     "metadata": {},
     "output_type": "execute_result"
    },
    {
     "data": {
      "image/png": "[encoded data removed]",
      "text/plain": [
       "<Figure size 432x288 with 1 Axes>"
      ]
     },
     "metadata": {
      "needs_background": "light"
     },
     "output_type": "display_data"
    }
   ],
   "source": [
    "airCityPrice = airdf.groupby('city').agg(['mean','max','min']).price\n",
    "\n",
    "airCityPrice.plot(kind='bar')\n",
    "plt.xlabel('City')\n",
    "plt.ylabel('Price')\n",
    "plt.title('Price range analysis by Manhattan')"
   ]
  },
  {
   "cell_type": "code",
   "execution_count": 16,
   "metadata": {},
   "outputs": [
    {
     "data": {
      "text/plain": [
       "<matplotlib.axes._subplots.AxesSubplot at 0x1a16bbd160>"
      ]
     },
     "execution_count": 16,
     "metadata": {},
     "output_type": "execute_result"
    },
    {
     "data": {
      "image/png": "[encoded data removed]",
      "text/plain": [
       "<Figure size 432x288 with 1 Axes>"
      ]
     },
     "metadata": {
      "needs_background": "light"
     },
     "output_type": "display_data"
    }
   ],
   "source": [
    "sns.kdeplot(airdf[airdf.city == 'Manhattan'].price, shade=True, color = \"red\" , label='Estimated PDF of price in Manhattan')"
   ]
  },
  {
   "cell_type": "code",
   "execution_count": 18,
   "metadata": {},
   "outputs": [
    {
     "data": {
      "image/png": "[encoded data removed]",
      "text/plain": [
       "<Figure size 1440x720 with 2 Axes>"
      ]
     },
     "metadata": {
      "needs_background": "light"
     },
     "output_type": "display_data"
    }
   ],
   "source": [
    "# Plot Price and popularity comparison by type of House in Manhattan\n",
    "\n",
    "priceManh = airdf[airdf.city == 'Manhattan'].groupby('house_type')['price'].mean()\n",
    "reviewManh = airdf[airdf.city == 'Manhattan'].groupby('house_type')['no_of_reviews'].mean()\n",
    "\n",
    "fig = plt.figure() # Create matplotlib figure\n",
    "fig.set_size_inches(20, 10)\n",
    "\n",
    "ax = fig.add_subplot(111) # Create matplotlib axes\n",
    "ax2 = ax.twiny() # Create another axes that shares the same y-axis as ay.\n",
    "\n",
    "width = 0.3\n",
    "\n",
    "p1 = priceManh.sort_values(ascending=True).plot(kind='barh', color='red', ax=ax, width=width, position =1, legend = True,label = 'Price')\n",
    "p2 = reviewManh.plot(kind='barh', color='blue', ax=ax2, width=width, position=0,legend = True,label = 'Review')\n",
    "\n",
    "\n",
    "ax.set_xlabel('Average Price')\n",
    "ax2.set_xlabel('Review')\n",
    "#plt.ylabel('House Type')\n",
    "plt.title('Price and popularity comparison by type of house in Manhattan', fontsize=18)\n",
    "ax2.legend(loc = 'lower right')\n",
    "ax.legend(loc = 'lower right', borderaxespad = 2)\n",
    "plt.show()"
   ]
  },
  {
   "cell_type": "code",
   "execution_count": 20,
   "metadata": {},
   "outputs": [
    {
     "ename": "DataError",
     "evalue": "No numeric types to aggregate",
     "output_type": "error",
     "traceback": [
      "\u001b[0;31m---------------------------------------------------------------------------\u001b[0m",
      "\u001b[0;31mDataError\u001b[0m                                 Traceback (most recent call last)",
      "\u001b[0;32m<ipython-input-20-8d3fb449f56c>\u001b[0m in \u001b[0;36m<module>\u001b[0;34m\u001b[0m\n\u001b[1;32m      2\u001b[0m \u001b[0;34m\u001b[0m\u001b[0m\n\u001b[1;32m      3\u001b[0m \u001b[0mplt\u001b[0m\u001b[0;34m.\u001b[0m\u001b[0mfigure\u001b[0m\u001b[0;34m(\u001b[0m\u001b[0mfigsize\u001b[0m\u001b[0;34m=\u001b[0m\u001b[0;34m(\u001b[0m\u001b[0;36m12\u001b[0m\u001b[0;34m,\u001b[0m\u001b[0;36m6\u001b[0m\u001b[0;34m)\u001b[0m\u001b[0;34m)\u001b[0m\u001b[0;34m\u001b[0m\u001b[0;34m\u001b[0m\u001b[0m\n\u001b[0;32m----> 4\u001b[0;31m \u001b[0mairdf\u001b[0m\u001b[0;34m[\u001b[0m\u001b[0mairdf\u001b[0m\u001b[0;34m.\u001b[0m\u001b[0mcity\u001b[0m \u001b[0;34m==\u001b[0m \u001b[0;34m'Manhattan'\u001b[0m\u001b[0;34m]\u001b[0m\u001b[0;34m.\u001b[0m\u001b[0mgroupby\u001b[0m\u001b[0;34m(\u001b[0m\u001b[0;34m'house_type'\u001b[0m\u001b[0;34m)\u001b[0m\u001b[0;34m[\u001b[0m\u001b[0;34m'no_of_guest'\u001b[0m\u001b[0;34m]\u001b[0m\u001b[0;34m.\u001b[0m\u001b[0mmean\u001b[0m\u001b[0;34m(\u001b[0m\u001b[0;34m)\u001b[0m\u001b[0;34m.\u001b[0m\u001b[0msort_values\u001b[0m\u001b[0;34m(\u001b[0m\u001b[0;34m)\u001b[0m\u001b[0;34m.\u001b[0m\u001b[0mplot\u001b[0m\u001b[0;34m(\u001b[0m\u001b[0mkind\u001b[0m\u001b[0;34m=\u001b[0m\u001b[0;34m'barh'\u001b[0m\u001b[0;34m)\u001b[0m\u001b[0;34m\u001b[0m\u001b[0;34m\u001b[0m\u001b[0m\n\u001b[0m\u001b[1;32m      5\u001b[0m \u001b[0mplt\u001b[0m\u001b[0;34m.\u001b[0m\u001b[0mxlabel\u001b[0m\u001b[0;34m(\u001b[0m\u001b[0;34m'Number of guest accomodation'\u001b[0m\u001b[0;34m)\u001b[0m\u001b[0;34m\u001b[0m\u001b[0;34m\u001b[0m\u001b[0m\n\u001b[1;32m      6\u001b[0m \u001b[0mplt\u001b[0m\u001b[0;34m.\u001b[0m\u001b[0mylabel\u001b[0m\u001b[0;34m(\u001b[0m\u001b[0;34m'Houses in Manhattan'\u001b[0m\u001b[0;34m)\u001b[0m\u001b[0;34m\u001b[0m\u001b[0;34m\u001b[0m\u001b[0m\n",
      "\u001b[0;32m~/anaconda3/lib/python3.7/site-packages/pandas/core/groupby/groupby.py\u001b[0m in \u001b[0;36mmean\u001b[0;34m(self, *args, **kwargs)\u001b[0m\n\u001b[1;32m   1304\u001b[0m         \u001b[0mnv\u001b[0m\u001b[0;34m.\u001b[0m\u001b[0mvalidate_groupby_func\u001b[0m\u001b[0;34m(\u001b[0m\u001b[0;34m'mean'\u001b[0m\u001b[0;34m,\u001b[0m \u001b[0margs\u001b[0m\u001b[0;34m,\u001b[0m \u001b[0mkwargs\u001b[0m\u001b[0;34m,\u001b[0m \u001b[0;34m[\u001b[0m\u001b[0;34m'numeric_only'\u001b[0m\u001b[0;34m]\u001b[0m\u001b[0;34m)\u001b[0m\u001b[0;34m\u001b[0m\u001b[0;34m\u001b[0m\u001b[0m\n\u001b[1;32m   1305\u001b[0m         \u001b[0;32mtry\u001b[0m\u001b[0;34m:\u001b[0m\u001b[0;34m\u001b[0m\u001b[0;34m\u001b[0m\u001b[0m\n\u001b[0;32m-> 1306\u001b[0;31m             \u001b[0;32mreturn\u001b[0m \u001b[0mself\u001b[0m\u001b[0;34m.\u001b[0m\u001b[0m_cython_agg_general\u001b[0m\u001b[0;34m(\u001b[0m\u001b[0;34m'mean'\u001b[0m\u001b[0;34m,\u001b[0m \u001b[0;34m**\u001b[0m\u001b[0mkwargs\u001b[0m\u001b[0;34m)\u001b[0m\u001b[0;34m\u001b[0m\u001b[0;34m\u001b[0m\u001b[0m\n\u001b[0m\u001b[1;32m   1307\u001b[0m         \u001b[0;32mexcept\u001b[0m \u001b[0mGroupByError\u001b[0m\u001b[0;34m:\u001b[0m\u001b[0;34m\u001b[0m\u001b[0;34m\u001b[0m\u001b[0m\n\u001b[1;32m   1308\u001b[0m             \u001b[0;32mraise\u001b[0m\u001b[0;34m\u001b[0m\u001b[0;34m\u001b[0m\u001b[0m\n",
      "\u001b[0;32m~/anaconda3/lib/python3.7/site-packages/pandas/core/groupby/groupby.py\u001b[0m in \u001b[0;36m_cython_agg_general\u001b[0;34m(self, how, alt, numeric_only, min_count)\u001b[0m\n\u001b[1;32m   1054\u001b[0m \u001b[0;34m\u001b[0m\u001b[0m\n\u001b[1;32m   1055\u001b[0m         \u001b[0;32mif\u001b[0m \u001b[0mlen\u001b[0m\u001b[0;34m(\u001b[0m\u001b[0moutput\u001b[0m\u001b[0;34m)\u001b[0m \u001b[0;34m==\u001b[0m \u001b[0;36m0\u001b[0m\u001b[0;34m:\u001b[0m\u001b[0;34m\u001b[0m\u001b[0;34m\u001b[0m\u001b[0m\n\u001b[0;32m-> 1056\u001b[0;31m             \u001b[0;32mraise\u001b[0m \u001b[0mDataError\u001b[0m\u001b[0;34m(\u001b[0m\u001b[0;34m'No numeric types to aggregate'\u001b[0m\u001b[0;34m)\u001b[0m\u001b[0;34m\u001b[0m\u001b[0;34m\u001b[0m\u001b[0m\n\u001b[0m\u001b[1;32m   1057\u001b[0m \u001b[0;34m\u001b[0m\u001b[0m\n\u001b[1;32m   1058\u001b[0m         \u001b[0;32mreturn\u001b[0m \u001b[0mself\u001b[0m\u001b[0;34m.\u001b[0m\u001b[0m_wrap_aggregated_output\u001b[0m\u001b[0;34m(\u001b[0m\u001b[0moutput\u001b[0m\u001b[0;34m,\u001b[0m \u001b[0mnames\u001b[0m\u001b[0;34m)\u001b[0m\u001b[0;34m\u001b[0m\u001b[0;34m\u001b[0m\u001b[0m\n",
      "\u001b[0;31mDataError\u001b[0m: No numeric types to aggregate"
     ]
    },
    {
     "data": {
      "text/plain": [
       "<Figure size 864x432 with 0 Axes>"
      ]
     },
     "metadata": {},
     "output_type": "display_data"
    }
   ],
   "source": [
    "# type analysis in Manhattan by house size\n",
    "\n",
    "plt.figure(figsize=(12,6))\n",
    "airdf[airdf.city == 'Manhattan'].groupby('house_type')['no_of_guest'].mean().sort_values().plot(kind='barh')\n",
    "plt.xlabel('Number of guest accomodation')\n",
    "plt.ylabel('Houses in Manhattan')\n",
    "plt.title('How many guest can this house accomodate?')"
   ]
  },
  {
   "cell_type": "code",
   "execution_count": 22,
   "metadata": {},
   "outputs": [
    {
     "data": {
      "text/plain": [
       "Text(0, 0.5, 'Houses in Manhattan')"
      ]
     },
     "execution_count": 22,
     "metadata": {},
     "output_type": "execute_result"
    },
    {
     "data": {
      "image/png": "[encoded data removed]",
      "text/plain": [
       "<Figure size 864x432 with 1 Axes>"
      ]
     },
     "metadata": {
      "needs_background": "light"
     },
     "output_type": "display_data"
    }
   ],
   "source": [
    "# test not to be used in presentation\n",
    "# price analysis in Manhattan by house type\n",
    "\n",
    "plt.figure(figsize=(12,6))\n",
    "airdf[airdf.city == 'Manhattan'].groupby('house_type')['price'].mean().sort_values().plot(kind='barh')\n",
    "plt.xlabel('Average price')\n",
    "plt.ylabel('Houses in Manhattan')\n",
    "\n"
   ]
  },
  {
   "cell_type": "code",
   "execution_count": 47,
   "metadata": {},
   "outputs": [
    {
     "data": {
      "image/png": "[encoded data removed]",
      "text/plain": [
       "<Figure size 360x360 with 1 Axes>"
      ]
     },
     "metadata": {
      "needs_background": "light"
     },
     "output_type": "display_data"
    }
   ],
   "source": [
    "lmplt = sns.lmplot(x = 'rating', y= 'price', data=airdf[airdf.no_of_reviews > np.mean(airdf.no_of_reviews)], hue=\"city\",\n",
    "          line_kws={'color': 'red'},fit_reg = True,scatter_kws={'facecolors':'blue'}, col = 'city')\n",
    "lmplt = lmplt.set_axis_labels(\"Rating of Popular houses\", \"Price\")\n",
    "fig = lmplt.fig\n",
    "fig.suptitle(\"Price & Popularity relationship\", fontsize=18)\n",
    "lmplt.fig.subplots_adjust(top=.8)"
   ]
  },
  {
   "cell_type": "code",
   "execution_count": 49,
   "metadata": {},
   "outputs": [
    {
     "data": {
      "image/png": "[encoded data removed]",
      "text/plain": [
       "<Figure size 360x360 with 1 Axes>"
      ]
     },
     "metadata": {
      "needs_background": "light"
     },
     "output_type": "display_data"
    }
   ],
   "source": [
    "lmplt = sns.lmplot(x = 'rating', y= 'price', data=airdf[airdf.no_of_reviews <= np.mean(airdf.no_of_reviews)], hue=\"city\",\n",
    "          line_kws={'color': 'red'},fit_reg = True,scatter_kws={'facecolors':'blue'}, col = 'city')\n",
    "lmplt = lmplt.set_axis_labels(\"Rating of Non Popular houses\", \"Price\")\n",
    "fig = lmplt.fig\n",
    "fig.suptitle(\"Price & Non Popularity relationship\", fontsize=18)\n",
    "lmplt.fig.subplots_adjust(top=.8)"
   ]
  },
  {
   "cell_type": "code",
   "execution_count": 53,
   "metadata": {},
   "outputs": [
    {
     "data": {
      "text/html": [
       "<div>\n",
       "<style scoped>\n",
       "    .dataframe tbody tr th:only-of-type {\n",
       "        vertical-align: middle;\n",
       "    }\n",
       "\n",
       "    .dataframe tbody tr th {\n",
       "        vertical-align: top;\n",
       "    }\n",
       "\n",
       "    .dataframe thead th {\n",
       "        text-align: right;\n",
       "    }\n",
       "</style>\n",
       "<table border=\"1\" class=\"dataframe\">\n",
       "  <thead>\n",
       "    <tr style=\"text-align: right;\">\n",
       "      <th></th>\n",
       "      <th>city</th>\n",
       "      <th>house_title</th>\n",
       "      <th>house_type</th>\n",
       "      <th>price</th>\n",
       "      <th>owner_name</th>\n",
       "      <th>no_of_reviews</th>\n",
       "      <th>rating</th>\n",
       "      <th>no_of_guest</th>\n",
       "      <th>house_size</th>\n",
       "      <th>no_of_beds</th>\n",
       "      <th>no_of_baths</th>\n",
       "      <th>house</th>\n",
       "      <th>beds</th>\n",
       "      <th>bath</th>\n",
       "    </tr>\n",
       "  </thead>\n",
       "  <tbody>\n",
       "    <tr>\n",
       "      <th>7</th>\n",
       "      <td>Manhattan</td>\n",
       "      <td>Massive DUPLEX BR BATH East Village</td>\n",
       "      <td>Entire apartment</td>\n",
       "      <td>1980.0</td>\n",
       "      <td>Seith</td>\n",
       "      <td>3400</td>\n",
       "      <td>4.0</td>\n",
       "      <td>[</td>\n",
       "      <td>\"</td>\n",
       "      <td>[</td>\n",
       "      <td>'</td>\n",
       "      <td>NaN</td>\n",
       "      <td>NaN</td>\n",
       "      <td>NaN</td>\n",
       "    </tr>\n",
       "    <tr>\n",
       "      <th>12</th>\n",
       "      <td>Manhattan</td>\n",
       "      <td>Spacious Room in East Village NoHo</td>\n",
       "      <td>Private room in apartment</td>\n",
       "      <td>1290.0</td>\n",
       "      <td>Sne</td>\n",
       "      <td>3810</td>\n",
       "      <td>5.0</td>\n",
       "      <td>[</td>\n",
       "      <td>\"</td>\n",
       "      <td>[</td>\n",
       "      <td>'</td>\n",
       "      <td>NaN</td>\n",
       "      <td>NaN</td>\n",
       "      <td>NaN</td>\n",
       "    </tr>\n",
       "    <tr>\n",
       "      <th>13</th>\n",
       "      <td>Manhattan</td>\n",
       "      <td>Manhattan Lux Loft Like Love Lots Look</td>\n",
       "      <td>Private room in loft</td>\n",
       "      <td>2710.0</td>\n",
       "      <td>Carol</td>\n",
       "      <td>5260</td>\n",
       "      <td>5.0</td>\n",
       "      <td>[</td>\n",
       "      <td>\"</td>\n",
       "      <td>[</td>\n",
       "      <td>'</td>\n",
       "      <td>NaN</td>\n",
       "      <td>NaN</td>\n",
       "      <td>NaN</td>\n",
       "    </tr>\n",
       "    <tr>\n",
       "      <th>24</th>\n",
       "      <td>Manhattan</td>\n",
       "      <td>Near Times Square and Hell s Kitchen</td>\n",
       "      <td>Private room in apartment</td>\n",
       "      <td>1400.0</td>\n",
       "      <td>Claude</td>\n",
       "      <td>3430</td>\n",
       "      <td>4.5</td>\n",
       "      <td>[</td>\n",
       "      <td>\"</td>\n",
       "      <td>[</td>\n",
       "      <td>'</td>\n",
       "      <td>NaN</td>\n",
       "      <td>NaN</td>\n",
       "      <td>NaN</td>\n",
       "    </tr>\n",
       "    <tr>\n",
       "      <th>36</th>\n",
       "      <td>Manhattan</td>\n",
       "      <td>Soho Apartment Stylish Central</td>\n",
       "      <td>Entire condominium</td>\n",
       "      <td>1900.0</td>\n",
       "      <td>Arne</td>\n",
       "      <td>3460</td>\n",
       "      <td>4.5</td>\n",
       "      <td>[</td>\n",
       "      <td>\"</td>\n",
       "      <td>[</td>\n",
       "      <td>'</td>\n",
       "      <td>NaN</td>\n",
       "      <td>NaN</td>\n",
       "      <td>NaN</td>\n",
       "    </tr>\n",
       "    <tr>\n",
       "      <th>90</th>\n",
       "      <td>Manhattan</td>\n",
       "      <td>Best of SOHO Gorgeous bedroom</td>\n",
       "      <td>Entire condominium</td>\n",
       "      <td>2750.0</td>\n",
       "      <td>Arne</td>\n",
       "      <td>3430</td>\n",
       "      <td>4.5</td>\n",
       "      <td>[</td>\n",
       "      <td>\"</td>\n",
       "      <td>[</td>\n",
       "      <td>'</td>\n",
       "      <td>NaN</td>\n",
       "      <td>NaN</td>\n",
       "      <td>NaN</td>\n",
       "    </tr>\n",
       "    <tr>\n",
       "      <th>98</th>\n",
       "      <td>Manhattan</td>\n",
       "      <td>AMAZING BR TIME SQUARE SLEEPS</td>\n",
       "      <td>Entire apartment</td>\n",
       "      <td>2000.0</td>\n",
       "      <td>E. M.</td>\n",
       "      <td>3240</td>\n",
       "      <td>4.5</td>\n",
       "      <td>[</td>\n",
       "      <td>\"</td>\n",
       "      <td>[</td>\n",
       "      <td>'</td>\n",
       "      <td>NaN</td>\n",
       "      <td>NaN</td>\n",
       "      <td>NaN</td>\n",
       "    </tr>\n",
       "    <tr>\n",
       "      <th>125</th>\n",
       "      <td>Manhattan</td>\n",
       "      <td>TriBeCa Sq Ft w Priv Elevator</td>\n",
       "      <td>Entire loft</td>\n",
       "      <td>5000.0</td>\n",
       "      <td>Chester &amp; Jon</td>\n",
       "      <td>4310</td>\n",
       "      <td>5.0</td>\n",
       "      <td>[</td>\n",
       "      <td>\"</td>\n",
       "      <td>[</td>\n",
       "      <td>'</td>\n",
       "      <td>NaN</td>\n",
       "      <td>NaN</td>\n",
       "      <td>NaN</td>\n",
       "    </tr>\n",
       "    <tr>\n",
       "      <th>128</th>\n",
       "      <td>Manhattan</td>\n",
       "      <td>private bedroom w private bathroom on Central ...</td>\n",
       "      <td>Private room in apartment</td>\n",
       "      <td>1600.0</td>\n",
       "      <td>Arlette</td>\n",
       "      <td>3150</td>\n",
       "      <td>4.5</td>\n",
       "      <td>[</td>\n",
       "      <td>\"</td>\n",
       "      <td>[</td>\n",
       "      <td>'</td>\n",
       "      <td>NaN</td>\n",
       "      <td>NaN</td>\n",
       "      <td>NaN</td>\n",
       "    </tr>\n",
       "    <tr>\n",
       "      <th>273</th>\n",
       "      <td>Manhattan</td>\n",
       "      <td>Big st Meal Kind Host Ace Space</td>\n",
       "      <td>Private room in apartment</td>\n",
       "      <td>1340.0</td>\n",
       "      <td>Nancy</td>\n",
       "      <td>3140</td>\n",
       "      <td>4.5</td>\n",
       "      <td>[</td>\n",
       "      <td>\"</td>\n",
       "      <td>[</td>\n",
       "      <td>'</td>\n",
       "      <td>NaN</td>\n",
       "      <td>NaN</td>\n",
       "      <td>NaN</td>\n",
       "    </tr>\n",
       "  </tbody>\n",
       "</table>\n",
       "</div>"
      ],
      "text/plain": [
       "          city                                        house_title  \\\n",
       "7    Manhattan                Massive DUPLEX BR BATH East Village   \n",
       "12   Manhattan                 Spacious Room in East Village NoHo   \n",
       "13   Manhattan             Manhattan Lux Loft Like Love Lots Look   \n",
       "24   Manhattan               Near Times Square and Hell s Kitchen   \n",
       "36   Manhattan                     Soho Apartment Stylish Central   \n",
       "90   Manhattan                      Best of SOHO Gorgeous bedroom   \n",
       "98   Manhattan                      AMAZING BR TIME SQUARE SLEEPS   \n",
       "125  Manhattan                      TriBeCa Sq Ft w Priv Elevator   \n",
       "128  Manhattan  private bedroom w private bathroom on Central ...   \n",
       "273  Manhattan                    Big st Meal Kind Host Ace Space   \n",
       "\n",
       "                    house_type   price     owner_name  no_of_reviews  rating  \\\n",
       "7             Entire apartment  1980.0          Seith           3400     4.0   \n",
       "12   Private room in apartment  1290.0            Sne           3810     5.0   \n",
       "13        Private room in loft  2710.0          Carol           5260     5.0   \n",
       "24   Private room in apartment  1400.0         Claude           3430     4.5   \n",
       "36          Entire condominium  1900.0           Arne           3460     4.5   \n",
       "90          Entire condominium  2750.0           Arne           3430     4.5   \n",
       "98            Entire apartment  2000.0          E. M.           3240     4.5   \n",
       "125                Entire loft  5000.0  Chester & Jon           4310     5.0   \n",
       "128  Private room in apartment  1600.0        Arlette           3150     4.5   \n",
       "273  Private room in apartment  1340.0          Nancy           3140     4.5   \n",
       "\n",
       "    no_of_guest house_size no_of_beds no_of_baths  house  beds  bath  \n",
       "7             [          \"          [           '    NaN   NaN   NaN  \n",
       "12            [          \"          [           '    NaN   NaN   NaN  \n",
       "13            [          \"          [           '    NaN   NaN   NaN  \n",
       "24            [          \"          [           '    NaN   NaN   NaN  \n",
       "36            [          \"          [           '    NaN   NaN   NaN  \n",
       "90            [          \"          [           '    NaN   NaN   NaN  \n",
       "98            [          \"          [           '    NaN   NaN   NaN  \n",
       "125           [          \"          [           '    NaN   NaN   NaN  \n",
       "128           [          \"          [           '    NaN   NaN   NaN  \n",
       "273           [          \"          [           '    NaN   NaN   NaN  "
      ]
     },
     "execution_count": 53,
     "metadata": {},
     "output_type": "execute_result"
    }
   ],
   "source": [
    "# for test, might not use in presentation\n",
    "# Size and type of most popular houses\n",
    "airManh = airdf[airdf.city == 'Manhattan'] \n",
    "no_of_revw = airManh.no_of_reviews.sort_values(ascending = False).nlargest(10)\n",
    "airManh[airManh.no_of_reviews.isin(no_of_revw) ]"
   ]
  },
  {
   "cell_type": "code",
   "execution_count": 42,
   "metadata": {},
   "outputs": [
    {
     "data": {
      "text/html": [
       "<div>\n",
       "<style scoped>\n",
       "    .dataframe tbody tr th:only-of-type {\n",
       "        vertical-align: middle;\n",
       "    }\n",
       "\n",
       "    .dataframe tbody tr th {\n",
       "        vertical-align: top;\n",
       "    }\n",
       "\n",
       "    .dataframe thead th {\n",
       "        text-align: right;\n",
       "    }\n",
       "</style>\n",
       "<table border=\"1\" class=\"dataframe\">\n",
       "  <thead>\n",
       "    <tr style=\"text-align: right;\">\n",
       "      <th></th>\n",
       "      <th>price</th>\n",
       "      <th>no_of_reviews</th>\n",
       "      <th>rating</th>\n",
       "      <th>house</th>\n",
       "      <th>beds</th>\n",
       "      <th>bath</th>\n",
       "    </tr>\n",
       "  </thead>\n",
       "  <tbody>\n",
       "    <tr>\n",
       "      <th>price</th>\n",
       "      <td>1.000000</td>\n",
       "      <td>0.279812</td>\n",
       "      <td>0.025379</td>\n",
       "      <td>NaN</td>\n",
       "      <td>NaN</td>\n",
       "      <td>NaN</td>\n",
       "    </tr>\n",
       "    <tr>\n",
       "      <th>no_of_reviews</th>\n",
       "      <td>0.279812</td>\n",
       "      <td>1.000000</td>\n",
       "      <td>-0.057659</td>\n",
       "      <td>NaN</td>\n",
       "      <td>NaN</td>\n",
       "      <td>NaN</td>\n",
       "    </tr>\n",
       "    <tr>\n",
       "      <th>rating</th>\n",
       "      <td>0.025379</td>\n",
       "      <td>-0.057659</td>\n",
       "      <td>1.000000</td>\n",
       "      <td>NaN</td>\n",
       "      <td>NaN</td>\n",
       "      <td>NaN</td>\n",
       "    </tr>\n",
       "    <tr>\n",
       "      <th>house</th>\n",
       "      <td>NaN</td>\n",
       "      <td>NaN</td>\n",
       "      <td>NaN</td>\n",
       "      <td>NaN</td>\n",
       "      <td>NaN</td>\n",
       "      <td>NaN</td>\n",
       "    </tr>\n",
       "    <tr>\n",
       "      <th>beds</th>\n",
       "      <td>NaN</td>\n",
       "      <td>NaN</td>\n",
       "      <td>NaN</td>\n",
       "      <td>NaN</td>\n",
       "      <td>NaN</td>\n",
       "      <td>NaN</td>\n",
       "    </tr>\n",
       "    <tr>\n",
       "      <th>bath</th>\n",
       "      <td>NaN</td>\n",
       "      <td>NaN</td>\n",
       "      <td>NaN</td>\n",
       "      <td>NaN</td>\n",
       "      <td>NaN</td>\n",
       "      <td>NaN</td>\n",
       "    </tr>\n",
       "  </tbody>\n",
       "</table>\n",
       "</div>"
      ],
      "text/plain": [
       "                  price  no_of_reviews    rating  house  beds  bath\n",
       "price          1.000000       0.279812  0.025379    NaN   NaN   NaN\n",
       "no_of_reviews  0.279812       1.000000 -0.057659    NaN   NaN   NaN\n",
       "rating         0.025379      -0.057659  1.000000    NaN   NaN   NaN\n",
       "house               NaN            NaN       NaN    NaN   NaN   NaN\n",
       "beds                NaN            NaN       NaN    NaN   NaN   NaN\n",
       "bath                NaN            NaN       NaN    NaN   NaN   NaN"
      ]
     },
     "execution_count": 42,
     "metadata": {},
     "output_type": "execute_result"
    }
   ],
   "source": [
    "airdf[airdf.city=='Manhattan'].corr()"
   ]
  },
  {
   "cell_type": "code",
   "execution_count": null,
   "metadata": {},
   "outputs": [],
   "source": []
  },
  {
   "cell_type": "code",
   "execution_count": null,
   "metadata": {},
   "outputs": [],
   "source": []
  },
  {
   "cell_type": "code",
   "execution_count": null,
   "metadata": {},
   "outputs": [],
   "source": []
  },
  {
   "cell_type": "code",
   "execution_count": null,
   "metadata": {},
   "outputs": [],
   "source": []
  },
  {
   "cell_type": "code",
   "execution_count": null,
   "metadata": {},
   "outputs": [],
   "source": []
  },
  {
   "cell_type": "code",
   "execution_count": null,
   "metadata": {},
   "outputs": [],
   "source": []
  },
  {
   "cell_type": "code",
   "execution_count": null,
   "metadata": {},
   "outputs": [],
   "source": []
  },
  {
   "cell_type": "code",
   "execution_count": null,
   "metadata": {},
   "outputs": [],
   "source": []
  },
  {
   "cell_type": "code",
   "execution_count": null,
   "metadata": {},
   "outputs": [],
   "source": []
  },
  {
   "cell_type": "code",
   "execution_count": null,
   "metadata": {},
   "outputs": [],
   "source": []
  },
  {
   "cell_type": "code",
   "execution_count": null,
   "metadata": {},
   "outputs": [],
   "source": []
  },
  {
   "cell_type": "code",
   "execution_count": null,
   "metadata": {},
   "outputs": [],
   "source": []
  }
 ],
 "metadata": {
  "kernelspec": {
   "display_name": "Python 3",
   "language": "python",
   "name": "python3"
  },
  "language_info": {
   "codemirror_mode": {
    "name": "ipython",
    "version": 3
   },
   "file_extension": ".py",
   "mimetype": "text/x-python",
   "name": "python",
   "nbconvert_exporter": "python",
   "pygments_lexer": "ipython3",
   "version": "3.7.1"
  }
 },
 "nbformat": 4,
 "nbformat_minor": 2
}
